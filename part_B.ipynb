{
 "cells": [
  {
   "cell_type": "markdown",
   "metadata": {},
   "source": [
    "# TECH 2 mandatory assignment - Part B\n",
    "\n",
    "Write your solution for Part B in this notebook."
   ]
  },
  {
   "cell_type": "code",
   "execution_count": 2,
   "metadata": {},
   "outputs": [],
   "source": [
    "import pandas as pd\n",
    "\n",
    " # read_csv function loads the csv file with data, and we store it in df (dataframe\n",
    "# iloc retrieves data from a certain location, y coordinate for columns\n",
    "# The two first columns have boxes with no values as the length is 10 000, dropna ensures that Nan (not a number) values are not included\n",
    "# tolist() stores the data in a list\n",
    "\n",
    "\n",
    "df = pd.read_csv('Data.csv')                      \n",
    "column_100 = df.iloc[:, 0].dropna().tolist()       \n",
    "column_1000 = df.iloc[:, 1].dropna().tolist()\n",
    "column_10000 = df.iloc[:, 2].tolist()\n"
   ]
  },
  {
   "cell_type": "code",
   "execution_count": 3,
   "metadata": {},
   "outputs": [
    {
     "name": "stdout",
     "output_type": "stream",
     "text": [
      "1.4142135623730951\n",
      "0.2830566925790975\n",
      "0.2847606502984571\n",
      "0.2854126090040637\n"
     ]
    }
   ],
   "source": [
    " # Import loops function from Part A, and use the function for the 3 datasets\n",
    "from part_A import std_loops\n",
    "print(std_loops(column_100))\n",
    "print(std_loops(column_1000))\n",
    "print(std_loops(column_10000))"
   ]
  },
  {
   "cell_type": "code",
   "execution_count": 4,
   "metadata": {},
   "outputs": [
    {
     "name": "stdout",
     "output_type": "stream",
     "text": [
      "0.2830566925790975\n",
      "0.2847606502984576\n",
      "0.28541260900406346\n"
     ]
    }
   ],
   "source": [
    " # Import function with built in functions, and use the function for the 3 datsets\n",
    "from part_A import std_builtin\n",
    "print(std_builtin(column_100))\n",
    "print(std_builtin(column_1000))\n",
    "print(std_builtin(column_10000))"
   ]
  },
  {
   "cell_type": "code",
   "execution_count": 5,
   "metadata": {},
   "outputs": [
    {
     "name": "stdout",
     "output_type": "stream",
     "text": [
      "0.2830566925790975\n",
      "0.28476065029845754\n",
      "0.28541260900406346\n"
     ]
    }
   ],
   "source": [
    " # Import numpy, and use numpy's standard deviation function for the 3 datasets\n",
    "import numpy as np\n",
    "print(np.std(column_100))\n",
    "print(np.std(column_1000))\n",
    "print(np.std(column_10000))"
   ]
  },
  {
   "cell_type": "markdown",
   "metadata": {},
   "source": [
    "Use timeit tool to measure the time used by the 3 functions for the 3 datasets"
   ]
  },
  {
   "cell_type": "code",
   "execution_count": 7,
   "metadata": {
    "scrolled": true
   },
   "outputs": [
    {
     "name": "stdout",
     "output_type": "stream",
     "text": [
      "8.1 μs ± 34.4 ns per loop (mean ± std. dev. of 7 runs, 100,000 loops each)\n"
     ]
    }
   ],
   "source": [
    "%%timeit\n",
    "std_loops(column_100)"
   ]
  },
  {
   "cell_type": "code",
   "execution_count": 8,
   "metadata": {},
   "outputs": [
    {
     "name": "stdout",
     "output_type": "stream",
     "text": [
      "87.4 μs ± 301 ns per loop (mean ± std. dev. of 7 runs, 10,000 loops each)\n"
     ]
    }
   ],
   "source": [
    "%%timeit \n",
    "std_loops(column_1000)"
   ]
  },
  {
   "cell_type": "code",
   "execution_count": 9,
   "metadata": {},
   "outputs": [
    {
     "name": "stdout",
     "output_type": "stream",
     "text": [
      "888 μs ± 3.79 μs per loop (mean ± std. dev. of 7 runs, 1,000 loops each)\n"
     ]
    }
   ],
   "source": [
    "%%timeit\n",
    "std_loops(column_10000)"
   ]
  },
  {
   "cell_type": "code",
   "execution_count": 10,
   "metadata": {},
   "outputs": [
    {
     "name": "stdout",
     "output_type": "stream",
     "text": [
      "6.01 μs ± 4.25 ns per loop (mean ± std. dev. of 7 runs, 100,000 loops each)\n"
     ]
    }
   ],
   "source": [
    "%%timeit\n",
    "std_builtin(column_100)"
   ]
  },
  {
   "cell_type": "code",
   "execution_count": 11,
   "metadata": {},
   "outputs": [
    {
     "name": "stdout",
     "output_type": "stream",
     "text": [
      "61.7 μs ± 219 ns per loop (mean ± std. dev. of 7 runs, 10,000 loops each)\n"
     ]
    }
   ],
   "source": [
    "%%timeit\n",
    "std_builtin(column_1000)"
   ]
  },
  {
   "cell_type": "code",
   "execution_count": 12,
   "metadata": {},
   "outputs": [
    {
     "name": "stdout",
     "output_type": "stream",
     "text": [
      "613 μs ± 3.87 μs per loop (mean ± std. dev. of 7 runs, 1,000 loops each)\n"
     ]
    }
   ],
   "source": [
    "%%timeit\n",
    "std_builtin(column_10000)"
   ]
  },
  {
   "cell_type": "code",
   "execution_count": 13,
   "metadata": {},
   "outputs": [
    {
     "name": "stdout",
     "output_type": "stream",
     "text": [
      "10.2 μs ± 96.9 ns per loop (mean ± std. dev. of 7 runs, 100,000 loops each)\n"
     ]
    }
   ],
   "source": [
    "%%timeit\n",
    "np.std(column_100)"
   ]
  },
  {
   "cell_type": "code",
   "execution_count": 14,
   "metadata": {},
   "outputs": [
    {
     "name": "stdout",
     "output_type": "stream",
     "text": [
      "30.6 μs ± 52.4 ns per loop (mean ± std. dev. of 7 runs, 10,000 loops each)\n"
     ]
    }
   ],
   "source": [
    "%%timeit\n",
    "np.std(column_1000)"
   ]
  },
  {
   "cell_type": "code",
   "execution_count": 15,
   "metadata": {},
   "outputs": [
    {
     "name": "stdout",
     "output_type": "stream",
     "text": [
      "230 μs ± 435 ns per loop (mean ± std. dev. of 7 runs, 1,000 loops each)\n"
     ]
    }
   ],
   "source": [
    "%%timeit\n",
    "np.std(column_10000)"
   ]
  },
  {
   "cell_type": "markdown",
   "metadata": {},
   "source": [
    "The output of timeit will vary slightly. The output I recieved when using timeit was as follows:\n",
    "Std_loops for 100 numbers: 8.1 μs ± 34.4 ns per loop \n",
    "Std_loops for 1000 numbers: 87.4 μs ± 301 ns per loop\n",
    "Std_loops for 10000 numbers: 888 μs ± 3.79 μs per loop\n",
    "\n",
    "Std_builtin for 100 numbers: 6.01 μs ± 4.25 ns per loop\n",
    "Std_builtin for 1000 numbers: 61.7 μs ± 219 ns per loop\n",
    "Std_builtin for 10000 numbers: 613 μs ± 3.87 μs per loop\n",
    "\n",
    "np.std for 100 numbers: 10.2 μs ± 96.9 ns per loop\n",
    "np.std for 1000 numbers: 30.6 μs ± 52.4 ns per loop\n",
    "np.std for 10000 numbers: 230 μs ± 435 ns per loop\n",
    "\n",
    "The function using built in functions was considerably faster than the function using loops for all 3 datasets. This concludes that built in functions are more efficient than loops. The numpy solution is slower than both of the functions for the first dataset with 100 numbers, but it becomes much faster than the functions for the second and third dataset. Numpy handles 10 times the amount of data from dataset 1 to 2 but uses approximately three times the amount of time. Numpy handles 10 times the amount of data from data set 2 to 3 but uses approximately 8 times the amount of time. This suggests that the optimization of the numpy solution kicks in when handling larger datasets, but is out-competed by the simplicity of the self-made functions. \n",
    "\n",
    "In conclusion, the function with built in functions is fastest for lists with a couple hundred numbers and less, and the numpy function is fastest for larger datasets."
   ]
  }
 ],
 "metadata": {
  "kernelspec": {
   "display_name": "Python 3 (ipykernel)",
   "language": "python",
   "name": "python3"
  },
  "language_info": {
   "codemirror_mode": {
    "name": "ipython",
    "version": 3
   },
   "file_extension": ".py",
   "mimetype": "text/x-python",
   "name": "python",
   "nbconvert_exporter": "python",
   "pygments_lexer": "ipython3",
   "version": "3.12.2"
  }
 },
 "nbformat": 4,
 "nbformat_minor": 4
}
